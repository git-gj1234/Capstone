{
 "cells": [
  {
   "cell_type": "markdown",
   "metadata": {},
   "source": [
    "# Indexers"
   ]
  },
  {
   "cell_type": "code",
   "execution_count": null,
   "metadata": {},
   "outputs": [],
   "source": [
    "import pandas as pd\n",
    "\n",
    "def transform_qa_data(df: pd.DataFrame) -> pd.DataFrame:\n",
    "    \"\"\"Transform the DataFrame by combining each question-answer pair into a dictionary.\"\"\"\n",
    "    transformed_df = pd.DataFrame({\n",
    "        \"article_number\": df[\"Article Number\"],\n",
    "        \"article_content\": df[\"Article Content\"],\n",
    "        \"qa_pair\": df.apply(lambda row: {\"question\": row[\"Question\"], \"answer\": row[\"Answer\"]}, axis=1)\n",
    "    })\n",
    "\n",
    "    return transformed_df\n",
    "\n",
    "\n",
    "doc = transform_qa_data(\n",
    "    pd.read_csv(\"Constitution_Qa.csv\")\n",
    ")"
   ]
  },
  {
   "cell_type": "code",
   "execution_count": null,
   "metadata": {},
   "outputs": [],
   "source": [
    "doc.to_csv(\"Constitution_Qa_transformed.csv\", index=False)"
   ]
  },
  {
   "cell_type": "code",
   "execution_count": 26,
   "metadata": {},
   "outputs": [
    {
     "name": "stdout",
     "output_type": "stream",
     "text": [
      "🔄 Generating embeddings...\n"
     ]
    },
    {
     "name": "stderr",
     "output_type": "stream",
     "text": [
      "100%|██████████| 454/454 [00:00<00:00, 8358.67it/s]"
     ]
    },
    {
     "name": "stdout",
     "output_type": "stream",
     "text": [
      "✅ Inserted 454 records into 'constitution_articles' at ./Data\n"
     ]
    },
    {
     "name": "stderr",
     "output_type": "stream",
     "text": [
      "\n"
     ]
    }
   ],
   "source": [
    "import os\n",
    "import pandas as pd\n",
    "from typing import List\n",
    "from tqdm import tqdm\n",
    "\n",
    "from lancedb.pydantic import LanceModel, Vector\n",
    "import lancedb\n",
    "\n",
    "from langchain_google_genai import GoogleGenerativeAIEmbeddings\n",
    "from langchain_core.embeddings import Embeddings\n",
    "from legalbert_embedder import LegalBERTEmbedder\n",
    "# === Configuration ===\n",
    "CSV_FILE = \"Indian_Constitution.csv\"  # Your new file with article_id and article_desc\n",
    "DB_PATH = \"./Data\"\n",
    "TABLE_NAME = \"constitution_articles\"\n",
    "GEMINI_API_KEY = os.getenv(\"GEMINI_API_KEY\")  # Make sure this is set\n",
    "\n",
    "# === Embedding Setup ===\n",
    "embeddings_model = LegalBERTEmbedder()\n",
    "# === LanceDB Schema ===\n",
    "class SimpleArticleSchema(LanceModel):\n",
    "    article_id: str\n",
    "    article_desc: str\n",
    "    embedding: Vector(768)\n",
    "\n",
    "# === Embedding Function ===\n",
    "def get_embeddings_batch(texts: List[str]) -> List[List[float]]:\n",
    "    return embeddings_model.encode(texts)\n",
    "\n",
    "# === Process CSV Data ===\n",
    "def process_data(csv_file: str) -> List[SimpleArticleSchema]:\n",
    "    df = pd.read_csv(csv_file)\n",
    "    records = []\n",
    "\n",
    "    texts_to_embed = df[\"article_desc\"].tolist()\n",
    "    print(\"🔄 Generating embeddings...\")\n",
    "    embeddings = get_embeddings_batch(texts_to_embed)\n",
    "\n",
    "    for i, row in tqdm(df.iterrows(), total=len(df)):\n",
    "        record = SimpleArticleSchema(\n",
    "            article_id=row[\"article_id\"],\n",
    "            article_desc=row[\"article_desc\"],\n",
    "            embedding=embeddings[i]\n",
    "        )\n",
    "        records.append(record)\n",
    "\n",
    "    return records\n",
    "\n",
    "# === LanceDB Insertion ===\n",
    "def insert_into_lancedb(db_path: str, table_name: str, records: List[SimpleArticleSchema]):\n",
    "    db = lancedb.connect(db_path)\n",
    "\n",
    "    if table_name in db.table_names():\n",
    "        table = db.open_table(table_name)\n",
    "    else:\n",
    "        table = db.create_table(\n",
    "            table_name,\n",
    "            data=[record.dict() for record in records],\n",
    "            schema=SimpleArticleSchema,\n",
    "            mode=\"overwrite\"\n",
    "        )\n",
    "        table.create_fts_index([\"article_id\", \"article_desc\"], replace=True)\n",
    "        table.create_index(\"embedding\", replace=True)\n",
    "\n",
    "    print(f\"✅ Inserted {len(records)} records into '{table_name}' at {db_path}\")\n",
    "\n",
    "# === Main ===\n",
    "if __name__ == \"__main__\":\n",
    "    data = process_data(CSV_FILE)\n",
    "    insert_into_lancedb(DB_PATH, TABLE_NAME, data)\n"
   ]
  },
  {
   "cell_type": "code",
   "execution_count": null,
   "metadata": {},
   "outputs": [],
   "source": [
    "import lancedb\n",
    "from langchain_google_genai import GoogleGenerativeAIEmbeddings\n",
    "from langchain_core.embeddings import Embeddings\n",
    "import os\n",
    "\n",
    "# === Configuration ===\n",
    "DB_PATH = \"./Data\"\n",
    "\n",
    "from legalbert_embedder import LegalBERTEmbedder\n",
    "\n",
    "embeddings_model = LegalBERTEmbedder()\n",
    "\n",
    "# === Connect to LanceDB ===\n",
    "db = lancedb.connect(DB_PATH)\n",
    "raw_table = db.open_table(\"constitution_articles\")\n",
    "qa_table = db.open_table(\"constitution_articles_qa\")\n",
    "\n",
    "# === Embedding Function ===\n",
    "def embed_query(query: str):\n",
    "    return embeddings_model.embed_query(query)\n"
   ]
  },
  {
   "cell_type": "code",
   "execution_count": 28,
   "metadata": {},
   "outputs": [
    {
     "name": "stdout",
     "output_type": "stream",
     "text": [
      "🔄 Embedding texts in batches...\n"
     ]
    },
    {
     "name": "stderr",
     "output_type": "stream",
     "text": [
      "100%|██████████| 4360/4360 [00:00<00:00, 6368.95it/s]"
     ]
    },
    {
     "name": "stdout",
     "output_type": "stream",
     "text": [
      "✅ Inserted 4360 records into 'constitution_articles_qa' at ./Data\n"
     ]
    },
    {
     "name": "stderr",
     "output_type": "stream",
     "text": [
      "\n"
     ]
    }
   ],
   "source": [
    "import pandas as pd\n",
    "import json\n",
    "import numpy as np\n",
    "from typing import List\n",
    "from tqdm import tqdm\n",
    "import ast\n",
    "\n",
    "from lancedb.pydantic import LanceModel, Vector\n",
    "import lancedb\n",
    "import pyarrow as pa\n",
    "\n",
    "from langchain_google_genai import GoogleGenerativeAIEmbeddings\n",
    "from langchain_core.embeddings import Embeddings\n",
    "\n",
    "# === Configuration ===\n",
    "CSV_FILE = \"Constitution_Qa_transformed.csv\"       # Replace with your file\n",
    "DB_PATH = \"./Data\"\n",
    "TABLE_NAME = \"constitution_articles_qa\"\n",
    "GEMINI_API_KEY = os.getenv(\"GEMINI_API_KEY\")  # Replace with your key\n",
    "\n",
    "# === Embedding Setup ===\n",
    "from legalbert_embedder import LegalBERTEmbedder\n",
    "embeddings_model = LegalBERTEmbedder()\n",
    "\n",
    "# === LanceDB Schema ===\n",
    "class ArticleSchema(LanceModel):\n",
    "    article_number: str\n",
    "    article_content: str\n",
    "    qa_pair: str  # JSON string\n",
    "    qa_embedding: Vector(768)\n",
    "\n",
    "# === Embedding Function ===\n",
    "def get_embeddings_batch(texts: List[str]) -> List[List[float]]:\n",
    "    return embeddings_model.encode(texts)\n",
    "\n",
    "def safe_json_parse(value):\n",
    "    try:\n",
    "        if isinstance(value, dict):\n",
    "            return value\n",
    "        return ast.literal_eval(value)  # safely parse stringified dicts\n",
    "    except Exception as e:\n",
    "        print(f\"⚠️ Skipping row due to parsing error: {e}\\nValue: {value}\")\n",
    "        return {\"question\": \"\", \"answer\": \"\"}\n",
    "\n",
    "def process_data(csv_file: str) -> List[ArticleSchema]:\n",
    "    df = pd.read_csv(csv_file)\n",
    "    records = []\n",
    "\n",
    "    df['qa_pair'] = df['qa_pair'].apply(safe_json_parse)\n",
    "\n",
    "    texts_to_embed = []\n",
    "    for _, row in df.iterrows():\n",
    "        qa_dict = row['qa_pair']\n",
    "        question = qa_dict.get(\"question\", \"\")\n",
    "        answer = qa_dict.get(\"answer\", \"\")\n",
    "        qa_text = f\"Q: {question} A: {answer}\"\n",
    "        texts_to_embed.append(qa_text)\n",
    "\n",
    "    print(\"🔄 Embedding texts in batches...\")\n",
    "    batch_embeddings = get_embeddings_batch(texts_to_embed)\n",
    "\n",
    "    for i, row in tqdm(df.iterrows(), total=len(df)):\n",
    "        record = ArticleSchema(\n",
    "            article_number=row['article_number'],\n",
    "            article_content=row['article_content'],\n",
    "            qa_pair=json.dumps(row['qa_pair']),  # store as string\n",
    "            qa_embedding=batch_embeddings[i]\n",
    "        )\n",
    "        records.append(record)\n",
    "\n",
    "    return records\n",
    "\n",
    "# === LanceDB Insertion ===\n",
    "def insert_into_lancedb(db_path: str, table_name: str, records: List[ArticleSchema]):\n",
    "    db = lancedb.connect(db_path)\n",
    "\n",
    "    if table_name in db.table_names():\n",
    "        table = db.open_table(table_name)\n",
    "    else:\n",
    "        table = db.create_table(\n",
    "            table_name,\n",
    "            data=[record.dict() for record in records],\n",
    "            schema=ArticleSchema,\n",
    "            mode=\"overwrite\"\n",
    "        )\n",
    "        table.create_fts_index([\"article_number\", \"article_content\"], replace=True)\n",
    "        table.create_index(\n",
    "            vector_column_name=\"qa_embedding\",\n",
    "            metric=\"cosine\",   # or \"l2\", \"dot\", depending on what your use case needs\n",
    "            replace=True\n",
    "        )\n",
    "\n",
    "    print(f\"✅ Inserted {len(records)} records into '{table_name}' at {db_path}\")\n",
    "\n",
    "# === Main ===\n",
    "if __name__ == \"__main__\":\n",
    "    data = process_data(CSV_FILE)\n",
    "    insert_into_lancedb(DB_PATH, TABLE_NAME, data)\n"
   ]
  },
  {
   "cell_type": "markdown",
   "metadata": {},
   "source": [
    "# Retrievers"
   ]
  },
  {
   "cell_type": "code",
   "execution_count": 37,
   "metadata": {},
   "outputs": [],
   "source": [
    "import pandas as pd\n",
    "import json\n",
    "import numpy as np\n",
    "from typing import List\n",
    "from tqdm import tqdm\n",
    "import ast\n",
    "\n",
    "from lancedb.pydantic import LanceModel, Vector\n",
    "import lancedb\n",
    "import pyarrow as pa\n",
    "\n",
    "from langchain_google_genai import GoogleGenerativeAIEmbeddings\n",
    "from langchain_core.embeddings import Embeddings\n",
    "\n",
    "# === Configuration ===\n",
    "DB_PATH = \"./Data\"\n",
    "db = lancedb.connect(DB_PATH)\n",
    "raw_table = db.open_table(\"constitution_articles\")\n",
    "qa_table = db.open_table(\"constitution_articles_qa\")\n",
    "\n",
    "from legalbert_embedder import LegalBERTEmbedder\n",
    "embeddings_model = LegalBERTEmbedder()"
   ]
  },
  {
   "cell_type": "code",
   "execution_count": 63,
   "metadata": {},
   "outputs": [],
   "source": [
    "def query_raw_articles(query: str, k: int = 3):\n",
    "    embedding = embeddings_model.encode(query)\n",
    "    \n",
    "    print(f\"\\n🔍 Top {k} raw articles matching:\\n➡️ {query}\\n\")\n",
    "    \n",
    "    results = raw_table.search(embedding).limit(k).to_pandas()\n",
    "    results = results[:3]\n",
    "    for idx, row in results.iterrows():\n",
    "        print(f\"🔹 {row['article_id']}\")\n",
    "        print(f\"📝 {row['article_desc'][:300]}...\\n\")\n"
   ]
  },
  {
   "cell_type": "code",
   "execution_count": 64,
   "metadata": {},
   "outputs": [],
   "source": [
    "import json\n",
    "\n",
    "def query_qa_articles(query: str, k: int = 3):\n",
    "    embedding = embeddings_model.encode(query)\n",
    "\n",
    "    print(f\"\\n🔍 Top {k} QA articles matching:\\n➡️ {query}\\n\")\n",
    "\n",
    "    results = qa_table.search(embedding).limit(k).to_pandas()\n",
    "    results = results[:3]\n",
    "    for idx, row in results.iterrows():\n",
    "        qa = json.loads(row[\"qa_pair\"])\n",
    "        print(f\"🔹 {row['article_number']}\")\n",
    "        print(f\"Q: {qa.get('question', '')}\")\n",
    "        print(f\"A: {qa.get('answer', '')[:300]}...\\n\")\n"
   ]
  },
  {
   "cell_type": "code",
   "execution_count": 68,
   "metadata": {},
   "outputs": [
    {
     "name": "stdout",
     "output_type": "stream",
     "text": [
      "\n",
      "🔍 Top 3 raw articles matching:\n",
      "➡️ President of India\n",
      "\n",
      "🔹 Article 211 of Indian Constitution\n",
      "📝 Restriction on discussion in the Legislature No discussion shall take place in the Legislature of a State with respect to the conduct of any Judge of the Supreme Court or of a High Court in the discharge of his duties...\n",
      "\n",
      "🔹 Article 362 of Indian Constitution\n",
      "📝 Rights and privileges of Rulers of Indian States Rep by the Constitution (Twenty sixth Amendment) Act, 1971 ,...\n",
      "\n",
      "🔹 Article 215 of Indian Constitution\n",
      "📝 High Courts to be courts of record Every High Court shall be a court of record and shall have all the powers of such a court including the power to punish for contempt of itself...\n",
      "\n",
      "\n",
      "🔍 Top 3 QA articles matching:\n",
      "➡️ President of India\n",
      "\n",
      "🔹 Article 170\n",
      "Q: What is the maximum term for the Legislative Assembly in India?\n",
      "A: The maximum term for the Legislative Assembly in India is five years from the date appointed for its first meeting, unless dissolved earlier....\n",
      "\n",
      "🔹 Article 80\n",
      "Q: What is the minimum age requirement for a member of the Council of States?\n",
      "A: The minimum age requirement for a member of the Council of States, as per Article 84 of the Indian Constitution, is 30 years....\n",
      "\n",
      "🔹 Article 1\n",
      "Q: What does Article 1 of the Indian Constitution state about the name of the country?\n",
      "A: Article 1 of the Indian Constitution states that the name of the country is \"India....\n",
      "\n"
     ]
    }
   ],
   "source": [
    "query = \"President of India\"\n",
    "query_raw_articles(query)\n",
    "query_qa_articles(query)\n"
   ]
  },
  {
   "cell_type": "code",
   "execution_count": 66,
   "metadata": {},
   "outputs": [
    {
     "name": "stdout",
     "output_type": "stream",
     "text": [
      "\n",
      "🔍 Top 3 raw articles matching:\n",
      "➡️ How do mergers and acquisitions affect shareholder value?\n",
      "\n",
      "🔹 Article 371I of Indian Constitution\n",
      "📝 Special provision with respect to the State of Goa Notwithstanding anything in this Constitution, the Legislative Assembly of the State of Goa shall consist of not less than thirty members...\n",
      "\n",
      "🔹 Article 2A of Indian Constitution\n",
      "📝 Sikkim to be associated with the Union Rep by the Constitution Thirty six Amendment Act, 1975 , Section 5 (w e f 26 04 1975 )...\n",
      "\n",
      "🔹 Article 329A of Indian Constitution\n",
      "📝 Special provision as to elections to Parliament in the case of Prime Minister and Speaker Omitted PART XVI SPECIAL PROVISIONS RELATING TO CERTAIN CLASSES...\n",
      "\n",
      "\n",
      "🔍 Top 3 QA articles matching:\n",
      "➡️ How do mergers and acquisitions affect shareholder value?\n",
      "\n",
      "🔹 Article 170\n",
      "Q: What is the maximum term for the Legislative Assembly in India?\n",
      "A: The maximum term for the Legislative Assembly in India is five years from the date appointed for its first meeting, unless dissolved earlier....\n",
      "\n",
      "🔹 Article 80\n",
      "Q: What is the minimum age requirement for a member of the Council of States?\n",
      "A: The minimum age requirement for a member of the Council of States, as per Article 84 of the Indian Constitution, is 30 years....\n",
      "\n",
      "🔹 Article 56\n",
      "Q: What is the term of office for the President of India as per the Indian Constitution?\n",
      "A: The term of office for the President of India as per the Indian Constitution is five years. The President can be re-elected for a second term....\n",
      "\n"
     ]
    }
   ],
   "source": [
    "query = \"How do mergers and acquisitions affect shareholder value?\"\n",
    "query_raw_articles(query)\n",
    "query_qa_articles(query)"
   ]
  },
  {
   "cell_type": "code",
   "execution_count": null,
   "metadata": {},
   "outputs": [],
   "source": []
  }
 ],
 "metadata": {
  "kernelspec": {
   "display_name": "cuda_com",
   "language": "python",
   "name": "python3"
  },
  "language_info": {
   "codemirror_mode": {
    "name": "ipython",
    "version": 3
   },
   "file_extension": ".py",
   "mimetype": "text/x-python",
   "name": "python",
   "nbconvert_exporter": "python",
   "pygments_lexer": "ipython3",
   "version": "3.9.18"
  },
  "orig_nbformat": 4
 },
 "nbformat": 4,
 "nbformat_minor": 2
}
